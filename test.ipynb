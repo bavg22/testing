{
 "cells": [
  {
   "cell_type": "code",
   "execution_count": null,
   "metadata": {},
   "outputs": [],
   "source": [
    "import pandas as pd\n",
    "from ace_tools import display_dataframe_to_user\n",
    "\n",
    "# Cargar todas las hojas de metadata\n",
    "metadata_sheets = pd.read_excel('/mnt/data/Metadata.xlsx', sheet_name=None)\n",
    "\n",
    "# Construir diccionario de variables unificado\n",
    "meta_list = []\n",
    "for sheet_name, df in metadata_sheets.items():\n",
    "    # Asumimos que las dos primeras columnas son variable y descripción\n",
    "    var_col, desc_col = df.columns[:2]\n",
    "    temp = df[[var_col, desc_col]].copy()\n",
    "    temp.columns = ['variable', 'description']\n",
    "    temp['sheet'] = sheet_name\n",
    "    meta_list.append(temp)\n",
    "\n",
    "variable_dictionary = pd.concat(meta_list, ignore_index=True)\n",
    "\n",
    "# Mostrar el diccionario de variables\n",
    "display_dataframe_to_user(\"Diccionario de Variables (metadata)\", variable_dictionary.head(50))\n"
   ]
  }
 ],
 "metadata": {
  "kernelspec": {
   "display_name": "myenv",
   "language": "python",
   "name": "python3"
  },
  "language_info": {
   "name": "python",
   "version": "3.12.9"
  }
 },
 "nbformat": 4,
 "nbformat_minor": 2
}
